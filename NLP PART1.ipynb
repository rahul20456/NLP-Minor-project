{
 "cells": [
  {
   "cell_type": "code",
   "execution_count": 13,
   "id": "fbe04051",
   "metadata": {},
   "outputs": [
    {
     "name": "stderr",
     "output_type": "stream",
     "text": [
      "[nltk_data] Downloading package stopwords to\n",
      "[nltk_data]     C:\\Users\\msi1\\AppData\\Roaming\\nltk_data...\n",
      "[nltk_data]   Package stopwords is already up-to-date!\n",
      "[nltk_data] Downloading package vader_lexicon to\n",
      "[nltk_data]     C:\\Users\\msi1\\AppData\\Roaming\\nltk_data...\n",
      "[nltk_data]   Package vader_lexicon is already up-to-date!\n"
     ]
    }
   ],
   "source": [
    "import pandas as pd\n",
    "import tqdm as tqdm\n",
    "import re\n",
    "import string\n",
    "import nltk\n",
    "from nltk import word_tokenize\n",
    "from nltk.corpus import stopwords\n",
    "# from textblob import TextBlob\n",
    "from nltk.stem.snowball import SnowballStemmer\n",
    "nltk.download('stopwords')\n",
    "import matplotlib.pyplot as plt\n",
    "# import wordcloud\n",
    "# from wordcloud import WordCloud\n",
    "nltk.download('vader_lexicon')\n",
    "from nltk.sentiment.vader import SentimentIntensityAnalyzer\n",
    "from nltk.stem import WordNetLemmatizer\n",
    "import itertools\n",
    "import random\n",
    "import warnings\n",
    "warnings.filterwarnings('ignore')\n",
    "import pickle\n",
    "from numpy.random import choice\n",
    "import numpy as np\n",
    "import math\n",
    "from sklearn.feature_extraction.text import TfidfVectorizer\n",
    "from sklearn.naive_bayes import MultinomialNB\n",
    "from sklearn.pipeline import make_pipeline\n",
    "from sklearn.metrics import accuracy_score"
   ]
  },
  {
   "cell_type": "code",
   "execution_count": 2,
   "id": "4be97173",
   "metadata": {},
   "outputs": [],
   "source": [
    "data = pd.read_csv(\"A1_dataset.csv\") "
   ]
  },
  {
   "cell_type": "code",
   "execution_count": 3,
   "id": "a0641502",
   "metadata": {},
   "outputs": [],
   "source": [
    "punctuations = string.punctuation\n",
    "def remove_punct(sent):\n",
    "    x=\"\".join([letter for letter in sent if letter not in punctuations])\n",
    "    return(x)"
   ]
  },
  {
   "cell_type": "code",
   "execution_count": 4,
   "id": "2d824de7",
   "metadata": {},
   "outputs": [],
   "source": [
    "def remove_white_spaces(sent):\n",
    "    x = re.sub(r'\\s+',' ',sent)#will remove extra spaces\n",
    "    return(x)"
   ]
  },
  {
   "cell_type": "code",
   "execution_count": 5,
   "id": "e1ae896c",
   "metadata": {},
   "outputs": [],
   "source": [
    "def tokenization(sent):\n",
    "    tokens = word_tokenize(sent)\n",
    "    return tokens"
   ]
  },
  {
   "cell_type": "code",
   "execution_count": 6,
   "id": "64fa0bb7",
   "metadata": {},
   "outputs": [],
   "source": [
    "def remove_stop_words(tokens):\n",
    "    good_words = []\n",
    "    for word in tokens:\n",
    "        match = re.match('(?!no)\\w{1,2}\\\\b',word+' ')\n",
    "        x = bool(match)\n",
    "        if x is not True :\n",
    "            good_words.append(word)\n",
    "    row = ' '.join(good_words)\n",
    "    return row"
   ]
  },
  {
   "cell_type": "code",
   "execution_count": 7,
   "id": "77280c75",
   "metadata": {},
   "outputs": [],
   "source": [
    "def remove_url_html(sent):\n",
    "    pat = re.compile(\"@[a-zA-Z0-9_]+\")#atleast one character should be present after @ and valid username contains alphabets,digits and _\n",
    "    cl_pat = re.sub(pat, ' ', sent)\n",
    "    pat = re.compile(\"www.\\S+\")\n",
    "    cl_pat = re.sub(pat, ' ', cl_pat)\n",
    "    pat = re.compile(\"<.*?>\")#html\n",
    "    cl_pat = re.sub(pat, ' ', cl_pat)\n",
    "    pat = re.compile(\"https?://\\S+\")#url\n",
    "    cl_pat = re.sub(pat, ' ', cl_pat)\n",
    "    return str(cl_pat)"
   ]
  },
  {
   "cell_type": "code",
   "execution_count": 8,
   "id": "30326637",
   "metadata": {},
   "outputs": [],
   "source": [
    "def spelling_correction(sent):\n",
    "    corr = TextBlob(sent)\n",
    "    sent_corr = corr.correct()\n",
    "    return str(sent_corr)"
   ]
  },
  {
   "cell_type": "code",
   "execution_count": 9,
   "id": "d4129721",
   "metadata": {},
   "outputs": [],
   "source": [
    "def lemmatizing(row):\n",
    "    lemmatizer = WordNetLemmatizer()\n",
    "    lemm_words=[]\n",
    "    for word in row.split(\" \"):\n",
    "\n",
    "        lemm_words.append(lemmatizer.lemmatize(word))\n",
    "    \n",
    "    lemmed = ' '.join(lemm_words)\n",
    "    return lemmed"
   ]
  },
  {
   "cell_type": "code",
   "execution_count": 10,
   "id": "6f1c24f8",
   "metadata": {},
   "outputs": [],
   "source": [
    "def preprocessing_pipeline(row):\n",
    "    row = remove_url_html(row)\n",
    "    row = remove_punct(row)\n",
    "    row = remove_white_spaces(row)\n",
    "    words = tokenization(row)\n",
    "    row = remove_stop_words(words)\n",
    "    row = spelling_correction(row)\n",
    "    row = lemmatizing(row)\n",
    "    return row"
   ]
  },
  {
   "cell_type": "code",
   "execution_count": null,
   "id": "a7511e0c",
   "metadata": {},
   "outputs": [],
   "source": [
    "for i in tqdm.tqdm(data.index):\n",
    "    data.loc[i,'TEXT'] = preprocessing_pipeline(data.loc[i,'TEXT'])"
   ]
  },
  {
   "cell_type": "raw",
   "id": "ef9d5f83",
   "metadata": {},
   "source": [
    "WORD CLOUD "
   ]
  },
  {
   "cell_type": "code",
   "execution_count": 11,
   "id": "0b30e83d",
   "metadata": {},
   "outputs": [],
   "source": [
    "text_pos = \" \".join(data.loc[i,'TEXT'] for i in data.index if data.loc[i,'LABEL']==1)\n",
    "text_neg = \" \".join(data.loc[i,'TEXT'] for i in data.index if data.loc[i,'LABEL']==0)\n"
   ]
  },
  {
   "cell_type": "code",
   "execution_count": 12,
   "id": "61e384b4",
   "metadata": {},
   "outputs": [],
   "source": [
    "word_cloud = WordCloud().generate(text_pos)"
   ]
  },
  {
   "cell_type": "code",
   "execution_count": null,
   "id": "0c991e61",
   "metadata": {},
   "outputs": [],
   "source": [
    "plt.imshow(word_cloud)\n",
    "plt.axis(\"off\")\n",
    "plt.show()"
   ]
  },
  {
   "cell_type": "code",
   "execution_count": null,
   "id": "4e022f37",
   "metadata": {},
   "outputs": [],
   "source": [
    "word_cloud = WordCloud().generate(text_neg)\n",
    "plt.imshow(word_cloud)\n",
    "plt.axis(\"off\")\n",
    "plt.show()"
   ]
  },
  {
   "cell_type": "code",
   "execution_count": null,
   "id": "0cadf5d5",
   "metadata": {},
   "outputs": [],
   "source": []
  }
 ],
 "metadata": {
  "kernelspec": {
   "display_name": "Python 3 (ipykernel)",
   "language": "python",
   "name": "python3"
  },
  "language_info": {
   "codemirror_mode": {
    "name": "ipython",
    "version": 3
   },
   "file_extension": ".py",
   "mimetype": "text/x-python",
   "name": "python",
   "nbconvert_exporter": "python",
   "pygments_lexer": "ipython3",
   "version": "3.9.12"
  }
 },
 "nbformat": 4,
 "nbformat_minor": 5
}
